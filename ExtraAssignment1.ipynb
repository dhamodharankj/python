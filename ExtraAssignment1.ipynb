{
 "cells": [
  {
   "cell_type": "code",
   "execution_count": 1,
   "id": "3a8f654e",
   "metadata": {},
   "outputs": [
    {
     "name": "stdout",
     "output_type": "stream",
     "text": [
      "HOPE AI\n"
     ]
    }
   ],
   "source": [
    "print('HOPE AI')"
   ]
  },
  {
   "cell_type": "code",
   "execution_count": 2,
   "id": "f71e99a1",
   "metadata": {},
   "outputs": [
    {
     "name": "stdout",
     "output_type": "stream",
     "text": [
      "Enter your Institute Name?:HOPE AI\n"
     ]
    }
   ],
   "source": [
    "#Buy Input\n",
    "institue=input('Enter your Institute Name?:')"
   ]
  },
  {
   "cell_type": "code",
   "execution_count": 4,
   "id": "138f938d",
   "metadata": {},
   "outputs": [
    {
     "name": "stdout",
     "output_type": "stream",
     "text": [
      "Enter your Name:Dhamodharan\n",
      "Enter your Age29\n",
      "Enter your School Name:SPVM School\n",
      "Enter your Degree:B.tech IT\n"
     ]
    }
   ],
   "source": [
    "#Buy inputs\n",
    "Name=input('Enter your Name:')\n",
    "Age=input('Enter your Age')\n",
    "school=input('Enter your School Name:')\n",
    "Degree=input('Enter your Degree:')"
   ]
  },
  {
   "cell_type": "code",
   "execution_count": 5,
   "id": "06e221b5",
   "metadata": {},
   "outputs": [
    {
     "name": "stdout",
     "output_type": "stream",
     "text": [
      "77\n"
     ]
    }
   ],
   "source": [
    "#Addition\n",
    "a=43\n",
    "b=34\n",
    "add=a+b\n",
    "print(add)"
   ]
  },
  {
   "cell_type": "code",
   "execution_count": 6,
   "id": "36f2e9ab",
   "metadata": {},
   "outputs": [
    {
     "name": "stdout",
     "output_type": "stream",
     "text": [
      "9\n"
     ]
    }
   ],
   "source": [
    "#Subraction\n",
    "a=43\n",
    "b=34\n",
    "sub=a-b\n",
    "print(sub)"
   ]
  },
  {
   "cell_type": "code",
   "execution_count": 7,
   "id": "76b172ad",
   "metadata": {},
   "outputs": [
    {
     "name": "stdout",
     "output_type": "stream",
     "text": [
      "6111\n"
     ]
    }
   ],
   "source": [
    "#Multiplication\n",
    "a=63\n",
    "b=97\n",
    "mul=a*b\n",
    "print(mul)"
   ]
  },
  {
   "cell_type": "code",
   "execution_count": 8,
   "id": "b990f23b",
   "metadata": {},
   "outputs": [
    {
     "name": "stdout",
     "output_type": "stream",
     "text": [
      "2.4516129032258065\n"
     ]
    }
   ],
   "source": [
    "#Division\n",
    "a=76\n",
    "b=31\n",
    "floatdiv=a/b\n",
    "print(floatdiv)"
   ]
  },
  {
   "cell_type": "code",
   "execution_count": 9,
   "id": "4068b105",
   "metadata": {},
   "outputs": [
    {
     "name": "stdout",
     "output_type": "stream",
     "text": [
      "2\n"
     ]
    }
   ],
   "source": [
    "#Floor Division\n",
    "a=76\n",
    "b=31\n",
    "floordiv=a//b\n",
    "print(floordiv)"
   ]
  },
  {
   "cell_type": "code",
   "execution_count": 10,
   "id": "61e1b43a",
   "metadata": {},
   "outputs": [
    {
     "name": "stdout",
     "output_type": "stream",
     "text": [
      "14\n"
     ]
    }
   ],
   "source": [
    "#Modulo\n",
    "a=76\n",
    "b=31\n",
    "modulo=a%b\n",
    "print(modulo)"
   ]
  },
  {
   "cell_type": "code",
   "execution_count": 12,
   "id": "bf587cfc",
   "metadata": {},
   "outputs": [
    {
     "name": "stdout",
     "output_type": "stream",
     "text": [
      "256\n"
     ]
    }
   ],
   "source": [
    "#power\n",
    "a=4\n",
    "b=4\n",
    "power=a**b\n",
    "print(power)"
   ]
  },
  {
   "cell_type": "code",
   "execution_count": null,
   "id": "fc616645",
   "metadata": {},
   "outputs": [],
   "source": []
  },
  {
   "cell_type": "code",
   "execution_count": null,
   "id": "24962483",
   "metadata": {},
   "outputs": [],
   "source": []
  }
 ],
 "metadata": {
  "kernelspec": {
   "display_name": "Python 3 (ipykernel)",
   "language": "python",
   "name": "python3"
  },
  "language_info": {
   "codemirror_mode": {
    "name": "ipython",
    "version": 3
   },
   "file_extension": ".py",
   "mimetype": "text/x-python",
   "name": "python",
   "nbconvert_exporter": "python",
   "pygments_lexer": "ipython3",
   "version": "3.9.12"
  }
 },
 "nbformat": 4,
 "nbformat_minor": 5
}
