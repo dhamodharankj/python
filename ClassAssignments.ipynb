{
 "cells": [
  {
   "cell_type": "code",
   "execution_count": 1,
   "id": "859b4682",
   "metadata": {},
   "outputs": [],
   "source": [
    "# Create a class and function, and list out the items in the list\n",
    "class SubfieldsinAI:\n",
    "    def subfields():\n",
    "        print('Subfields in AI are:')\n",
    "        print('MachineLaerning')\n",
    "        print('Neural Networks')\n",
    "        print('Robotics')\n",
    "        print('Vision')\n",
    "        print('Speech Processing')\n",
    "        print('Natural Language Processing')"
   ]
  },
  {
   "cell_type": "code",
   "execution_count": 2,
   "id": "bae69211",
   "metadata": {},
   "outputs": [
    {
     "name": "stdout",
     "output_type": "stream",
     "text": [
      "Subfields in AI are:\n",
      "MachineLaerning\n",
      "Neural Networks\n",
      "Robotics\n",
      "Vision\n",
      "Speech Processing\n",
      "Natural Language Processing\n"
     ]
    }
   ],
   "source": [
    "SubfieldsinAI.subfields()"
   ]
  },
  {
   "cell_type": "code",
   "execution_count": 5,
   "id": "f8bd438f",
   "metadata": {},
   "outputs": [],
   "source": [
    "# Create a class and function, and list out the items in the list\n",
    "class OddEven:\n",
    "    def OddEven():\n",
    "        num=int(input('Enter the Number'))\n",
    "        if (num%2==0):\n",
    "            print('The Number is Even')\n",
    "        else:\n",
    "            print('The Number is Odd')"
   ]
  },
  {
   "cell_type": "code",
   "execution_count": 6,
   "id": "7636c08f",
   "metadata": {},
   "outputs": [
    {
     "name": "stdout",
     "output_type": "stream",
     "text": [
      "Enter the Number4\n",
      "The Number is Even\n"
     ]
    }
   ],
   "source": [
    "OddEven.OddEven()"
   ]
  },
  {
   "cell_type": "code",
   "execution_count": null,
   "id": "1699c183",
   "metadata": {},
   "outputs": [],
   "source": [
    "# Create a function that tells elegibility of marriage for male and female according to their age \n",
    "# limit like 21 for male and 18 for female"
   ]
  },
  {
   "cell_type": "code",
   "execution_count": 11,
   "id": "f7a9eaac",
   "metadata": {},
   "outputs": [],
   "source": [
    "class EligibilityForMarriage:\n",
    "    def Eligible():\n",
    "        gender=input('Enter the Gender')\n",
    "        age=int(input('Enter the Age:'))\n",
    "        if (gender=='Male'):\n",
    "            if (age<20):\n",
    "                print('Not Eligible')\n",
    "            else:\n",
    "                print('Eligible')\n",
    "        if (gender=='Female'):\n",
    "            if (age<18):\n",
    "                print('Not Eligible')\n",
    "            else:\n",
    "                print('Eligible')"
   ]
  },
  {
   "cell_type": "code",
   "execution_count": 12,
   "id": "8411288c",
   "metadata": {},
   "outputs": [
    {
     "name": "stdout",
     "output_type": "stream",
     "text": [
      "Enter the GenderMale\n",
      "Enter the Age:20\n",
      "Eligible\n"
     ]
    }
   ],
   "source": [
    "EligibilityForMarriage.Eligible()"
   ]
  },
  {
   "cell_type": "code",
   "execution_count": 13,
   "id": "01bfa32e",
   "metadata": {},
   "outputs": [],
   "source": [
    "# calculate the percentage of your 10th mark\n",
    "class Findpercent:\n",
    "    def percentage():\n",
    "        sub1=int(input('Subject1:'))\n",
    "        sub2=int(input('Subject2:'))\n",
    "        sub3=int(input('Subject3:'))\n",
    "        sub4=int(input('Subject4:'))\n",
    "        sub5=int(input('Subject5:'))\n",
    "        tot=(sub1+sub2+sub3+sub4+sub5)\n",
    "        print('Total:',tot)\n",
    "        avg=tot/5\n",
    "        print('Percentage',avg)"
   ]
  },
  {
   "cell_type": "code",
   "execution_count": 15,
   "id": "210e1f7d",
   "metadata": {},
   "outputs": [
    {
     "name": "stdout",
     "output_type": "stream",
     "text": [
      "Subject1:98\n",
      "Subject2:87\n",
      "Subject3:95\n",
      "Subject4:95\n",
      "Subject5:93\n",
      "Total: 468\n",
      "Percentage 93.6\n"
     ]
    }
   ],
   "source": [
    "Findpercent.percentage()"
   ]
  },
  {
   "cell_type": "code",
   "execution_count": 20,
   "id": "0b4faea5",
   "metadata": {},
   "outputs": [],
   "source": [
    "#print area and perimeter of triangle using class and functions\n",
    "class triangle:\n",
    "    def triangle():\n",
    "        H=32\n",
    "        B=34\n",
    "        Area=(H*B)/2\n",
    "        print('Area of the Triangle:',Area)\n",
    "        H1=2\n",
    "        H2=4\n",
    "        B1=4\n",
    "        perimeter=(H1+H2+B1)\n",
    "        print('Perimeter:',perimeter)"
   ]
  },
  {
   "cell_type": "code",
   "execution_count": 21,
   "id": "b182e0fd",
   "metadata": {},
   "outputs": [
    {
     "name": "stdout",
     "output_type": "stream",
     "text": [
      "Area of the Triangle: 544.0\n",
      "Perimeter: 10\n"
     ]
    }
   ],
   "source": [
    "triangle.triangle()"
   ]
  }
 ],
 "metadata": {
  "kernelspec": {
   "display_name": "Python 3 (ipykernel)",
   "language": "python",
   "name": "python3"
  },
  "language_info": {
   "codemirror_mode": {
    "name": "ipython",
    "version": 3
   },
   "file_extension": ".py",
   "mimetype": "text/x-python",
   "name": "python",
   "nbconvert_exporter": "python",
   "pygments_lexer": "ipython3",
   "version": "3.9.12"
  }
 },
 "nbformat": 4,
 "nbformat_minor": 5
}
