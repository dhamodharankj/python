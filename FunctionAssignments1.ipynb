{
 "cells": [
  {
   "cell_type": "code",
   "execution_count": 2,
   "id": "bc778644",
   "metadata": {},
   "outputs": [],
   "source": [
    "# Create Function\n",
    "def subfields():\n",
    "    print('Subfields in AI are:')\n",
    "    print('MachineLaerning')\n",
    "    print('Neural Networks')\n",
    "    print('Robotics')\n",
    "    print('Vision')\n",
    "    print('Speech Processing')\n",
    "    print('Natural Language Processing')"
   ]
  },
  {
   "cell_type": "code",
   "execution_count": 3,
   "id": "11b1b3f8",
   "metadata": {},
   "outputs": [
    {
     "name": "stdout",
     "output_type": "stream",
     "text": [
      "Subfields in AI are:\n",
      "MachineLaerning\n",
      "Neural Networks\n",
      "Robotics\n",
      "Vision\n",
      "Speech Processing\n",
      "Natural Language Processing\n"
     ]
    }
   ],
   "source": [
    "subfields()"
   ]
  },
  {
   "cell_type": "code",
   "execution_count": 7,
   "id": "f670bb2a",
   "metadata": {},
   "outputs": [],
   "source": [
    "# Create Function\n",
    "def OddEven():\n",
    "    num=int(input('Enter the Number'))\n",
    "    if (num%2==0):\n",
    "        print('The Number is Even')\n",
    "    else:\n",
    "        print('The Number is Odd')"
   ]
  },
  {
   "cell_type": "code",
   "execution_count": 8,
   "id": "cb80fd4d",
   "metadata": {},
   "outputs": [
    {
     "name": "stdout",
     "output_type": "stream",
     "text": [
      "Enter the Number8\n",
      "The Number is Even\n"
     ]
    }
   ],
   "source": [
    "OddEven()"
   ]
  },
  {
   "cell_type": "code",
   "execution_count": 14,
   "id": "b74dd891",
   "metadata": {},
   "outputs": [],
   "source": [
    "# Create Function\n",
    "def Eligible():\n",
    "    gender=input('Enter the Gender')\n",
    "    age=int(input('Enter the Age:'))\n",
    "    if (age<=18):\n",
    "        print('Not Eligible')\n",
    "    else:\n",
    "        print('Eligible')"
   ]
  },
  {
   "cell_type": "code",
   "execution_count": 15,
   "id": "2662a80a",
   "metadata": {},
   "outputs": [
    {
     "name": "stdout",
     "output_type": "stream",
     "text": [
      "Enter the GenderM\n",
      "Enter the Age:18\n",
      "Not Eligible\n"
     ]
    }
   ],
   "source": [
    "Eligible()"
   ]
  },
  {
   "cell_type": "code",
   "execution_count": 31,
   "id": "448e21c6",
   "metadata": {},
   "outputs": [],
   "source": [
    "# Create Function\n",
    "def percentage():\n",
    "    sub1=int(input('Subject1:'))\n",
    "    sub2=int(input('Subject2:'))\n",
    "    sub3=int(input('Subject3:'))\n",
    "    sub4=int(input('Subject4:'))\n",
    "    sub5=int(input('Subject5:'))\n",
    "    tot=(sub1+sub2+sub3+sub4+sub5)\n",
    "    print('Total:',tot)\n",
    "    avg=tot/5\n",
    "    print('Percentage',avg)"
   ]
  },
  {
   "cell_type": "code",
   "execution_count": 32,
   "id": "e7f37220",
   "metadata": {},
   "outputs": [
    {
     "name": "stdout",
     "output_type": "stream",
     "text": [
      "Subject1:23\n",
      "Subject2:34\n",
      "Subject3:45\n",
      "Subject4:23\n",
      "Subject5:23\n",
      "Total: 148\n",
      "Percentage 29.6\n"
     ]
    }
   ],
   "source": [
    "percentage()"
   ]
  },
  {
   "cell_type": "code",
   "execution_count": 34,
   "id": "30e8b139",
   "metadata": {},
   "outputs": [],
   "source": [
    "# Create Function\n",
    "def triangle():\n",
    "    Height=3\n",
    "    Breadth=4\n",
    "    Area=(Height*Breadth)/2\n",
    "    print('Area of the Triangle:',Area)"
   ]
  },
  {
   "cell_type": "code",
   "execution_count": 35,
   "id": "f4cbe636",
   "metadata": {},
   "outputs": [
    {
     "name": "stdout",
     "output_type": "stream",
     "text": [
      "Area of the Triangle: 6.0\n"
     ]
    }
   ],
   "source": [
    "triangle()"
   ]
  },
  {
   "cell_type": "code",
   "execution_count": 41,
   "id": "5024846d",
   "metadata": {},
   "outputs": [],
   "source": [
    "def perimeteroftriangle():\n",
    "    H1=3\n",
    "    H2=4\n",
    "    B=45\n",
    "    perimeter=(H1+H2+B)\n",
    "    print('Perimeter:',perimeter)"
   ]
  },
  {
   "cell_type": "code",
   "execution_count": 42,
   "id": "b98ee9f4",
   "metadata": {},
   "outputs": [
    {
     "name": "stdout",
     "output_type": "stream",
     "text": [
      "Perimeter: 52\n"
     ]
    }
   ],
   "source": [
    "perimeteroftriangle()"
   ]
  }
 ],
 "metadata": {
  "kernelspec": {
   "display_name": "Python 3 (ipykernel)",
   "language": "python",
   "name": "python3"
  },
  "language_info": {
   "codemirror_mode": {
    "name": "ipython",
    "version": 3
   },
   "file_extension": ".py",
   "mimetype": "text/x-python",
   "name": "python",
   "nbconvert_exporter": "python",
   "pygments_lexer": "ipython3",
   "version": "3.9.12"
  }
 },
 "nbformat": 4,
 "nbformat_minor": 5
}
