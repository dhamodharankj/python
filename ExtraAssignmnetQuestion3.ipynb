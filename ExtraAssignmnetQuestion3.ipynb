{
 "cells": [
  {
   "cell_type": "code",
   "execution_count": 6,
   "id": "f7f99482",
   "metadata": {},
   "outputs": [
    {
     "name": "stdout",
     "output_type": "stream",
     "text": [
      "Enter the Number10\n",
      "CORRECT\n"
     ]
    }
   ],
   "source": [
    "# print 'CORRECT' if i == 10\n",
    "num=int(input('Enter the Number'))\n",
    "if num==10:\n",
    "    print('CORRECT')\n",
    "else:\n",
    "    print('INCORRECT')"
   ]
  },
  {
   "cell_type": "code",
   "execution_count": 10,
   "id": "637e123a",
   "metadata": {},
   "outputs": [
    {
     "name": "stdout",
     "output_type": "stream",
     "text": [
      "Enter the password:HOPE@123\n",
      "Password is Correct\n"
     ]
    }
   ],
   "source": [
    "# Check the password, using if and else\n",
    "pwd=input('Enter the password:')\n",
    "if (pwd=='HOPE@123'):\n",
    "    print('Password is Correct')\n",
    "else:\n",
    "    print('Password is Incorrect')"
   ]
  },
  {
   "cell_type": "code",
   "execution_count": 12,
   "id": "63e4d456",
   "metadata": {},
   "outputs": [
    {
     "name": "stdout",
     "output_type": "stream",
     "text": [
      "Enter the Age:20\n",
      "Adult\n"
     ]
    }
   ],
   "source": [
    "# Catagory the people by their age like children, adult, citizen, senior citizen...\n",
    "age=int(input('Enter the Age:'))\n",
    "if (age<18):\n",
    "    print('Children')\n",
    "elif (age<35):\n",
    "    print('Adult')\n",
    "elif (age<60):\n",
    "    print('Citizen')\n",
    "else:\n",
    "    print('Senior Citizen')"
   ]
  },
  {
   "cell_type": "code",
   "execution_count": 16,
   "id": "750d80db",
   "metadata": {},
   "outputs": [
    {
     "name": "stdout",
     "output_type": "stream",
     "text": [
      "Enter the Number:-1\n",
      "Number is Negative\n"
     ]
    }
   ],
   "source": [
    "# Find whether given number is positive or negative\n",
    "num1=int(input('Enter the Number:'))\n",
    "if (num1<0):\n",
    "    print('Number is Negative')\n",
    "else:\n",
    "    print('Number is Positive')"
   ]
  },
  {
   "cell_type": "code",
   "execution_count": 17,
   "id": "68081365",
   "metadata": {},
   "outputs": [
    {
     "name": "stdout",
     "output_type": "stream",
     "text": [
      "Enter the Number:22\n",
      "Number is not Divisible by 5\n"
     ]
    }
   ],
   "source": [
    "# Check whether the given number is divisible by 5\n",
    "num2=int(input('Enter the Number:'))\n",
    "if (num2%5==0):\n",
    "    print('Number is Divisible by 5')\n",
    "else:\n",
    "    print('Number is not Divisible by 5')"
   ]
  }
 ],
 "metadata": {
  "kernelspec": {
   "display_name": "Python 3 (ipykernel)",
   "language": "python",
   "name": "python3"
  },
  "language_info": {
   "codemirror_mode": {
    "name": "ipython",
    "version": 3
   },
   "file_extension": ".py",
   "mimetype": "text/x-python",
   "name": "python",
   "nbconvert_exporter": "python",
   "pygments_lexer": "ipython3",
   "version": "3.9.12"
  }
 },
 "nbformat": 4,
 "nbformat_minor": 5
}
