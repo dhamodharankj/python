{
 "cells": [
  {
   "cell_type": "code",
   "execution_count": 1,
   "id": "9dfd9036",
   "metadata": {},
   "outputs": [
    {
     "name": "stdout",
     "output_type": "stream",
     "text": [
      "Welcome to Assignment-I\n"
     ]
    }
   ],
   "source": [
    "print('Welcome to Assignment-I')"
   ]
  },
  {
   "cell_type": "code",
   "execution_count": 3,
   "id": "4a9597da",
   "metadata": {},
   "outputs": [
    {
     "name": "stdout",
     "output_type": "stream",
     "text": [
      "40\n"
     ]
    }
   ],
   "source": [
    "num1=10\n",
    "num2=30\n",
    "Add=num1+num2\n",
    "print(Add)"
   ]
  },
  {
   "cell_type": "code",
   "execution_count": 1,
   "id": "a804aaca",
   "metadata": {},
   "outputs": [
    {
     "name": "stdout",
     "output_type": "stream",
     "text": [
      "Enter the Body Mass Index:34.5\n",
      "Very Overweight\n"
     ]
    }
   ],
   "source": [
    "#Body Mass Index\n",
    "BMI=float(input('Enter the Body Mass Index:'))\n",
    "if (BMI<18.5):\n",
    "    print('Underweight')\n",
    "elif(BMI<24.9):\n",
    "    print('Normal')\n",
    "elif(BMI<34):\n",
    "    print('Overweight')\n",
    "else:\n",
    "    print('Very Overweight')"
   ]
  },
  {
   "cell_type": "code",
   "execution_count": null,
   "id": "b22b3a2c",
   "metadata": {},
   "outputs": [],
   "source": []
  }
 ],
 "metadata": {
  "kernelspec": {
   "display_name": "Python 3 (ipykernel)",
   "language": "python",
   "name": "python3"
  },
  "language_info": {
   "codemirror_mode": {
    "name": "ipython",
    "version": 3
   },
   "file_extension": ".py",
   "mimetype": "text/x-python",
   "name": "python",
   "nbconvert_exporter": "python",
   "pygments_lexer": "ipython3",
   "version": "3.9.12"
  }
 },
 "nbformat": 4,
 "nbformat_minor": 5
}
